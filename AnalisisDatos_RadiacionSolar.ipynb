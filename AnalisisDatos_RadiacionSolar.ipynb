{
  "nbformat": 4,
  "nbformat_minor": 0,
  "metadata": {
    "colab": {
      "provenance": []
    },
    "kernelspec": {
      "name": "python3",
      "display_name": "Python 3"
    },
    "language_info": {
      "name": "python"
    }
  },
  "cells": [
    {
      "cell_type": "markdown",
      "metadata": {
        "id": "yhPqu63y0RRL"
      },
      "source": [
        "\n",
        "# **Análisis de Datos - Radiación Solar** #\n",
        "________________________________________\n",
        "\n",
        "# **OBJETIVO.**\n",
        "\n",
        "Determinar si un conjunto de datos experimentales correspondientes a la irradiancia espectral solar, dados en términos de la longitud de onda de la radiación y medidos por diferentes dispositivos, se ajustan apropiadamente a la curva característica de la función definida por la radiancia espectral de un cuerpo negro en equilibrio térmico, usando criterios estadísticos como el coeficiente de determinación $R^2$.\n",
        "\n",
        "# **Cuerpo negro: ley de Planck.**  Densidad espectral de energía y radiancia espectral.\n",
        "\n",
        "* **DENSIDAD ESPECTRAL DE ENERGÍA.** Es una función universal que se define a partir de la ley de Planck y tiene dimensiones de energía por unidad de volumen. Corresponde a la energía emitida por un cuerpo negro en equilibrio térmico a una temperatura absoluta $T$ y puede escribirse en términos de la frecuencia $\\nu$ (el número de ciclos o repeticiones de una onda por unidad de tiempo) o de la longitud de onda $\\displaystyle \\lambda = \\frac{c}{\\nu}$, de la siguiente manera:\n",
        "$$u(\\nu, T)\\, d\\nu = \\frac{8\\pi h\\nu^3}{c^3}\\frac{d\\nu}{e^{\\frac{h\\nu}{k_BT}}-1};\\;\\;\\;\\;\\;\\; u(\\lambda, T)\\, d\\lambda = -\\frac{8\\pi hc}{\\lambda^5}\\frac{d\\lambda}{e^{\\frac{hc}{\\lambda k_BT}}-1}$$\n",
        "\n",
        "\n",
        "> donde $k_{\\text{B}} = 1.3806\\times 10^{-23}\\;\\text{J}\\cdot\\text{K}^{-1}$, $h = 6.626\\times 10^{-34}\\;\\text{J}\\cdot\\text{s}$ y $c = 2.998 \\times 10^8\\;\\text{m}\\cdot\\text{s}^{-1}$, son respectivamente: la constante de Boltzmann, la constante de Planck y la velocidad de la luz en el vacío.\n",
        "\n",
        "> A partir de la suma sobre todas las frecuencias o longitudes de onda, resulta la densidad de energía total:\n",
        "$$U(T) = \\int_0^{\\infty} u(\\nu, T)\\, d\\nu;\\;\\;\\;\\;\\;\\; U(T) = \\int_{\\infty}^0 u(\\lambda, T)\\, d\\lambda $$\n",
        "\n",
        "* **RADIANCIA ESPECTRAL.** Es la magnitud que se mide experimentalmente. Tiene dimensiones de energía por unidad de volumen y tiempo (esto es, potencia por unidad de volumen). Esta se obtiene multiplicando la función $u$, por un factor de $\\displaystyle \\frac{c}{4}$, por lo tanto:\n",
        "$$r(\\nu, T) = \\frac{2\\pi h\\nu^3}{c^2}\\frac{1}{e^{\\frac{h\\nu}{k_BT}}-1};\\;\\;\\;\\;\\;\\; r(\\lambda, T) = -\\frac{2\\pi hc^2}{\\lambda^5}\\frac{1}{e^{\\frac{hc}{\\lambda k_BT}}-1}$$\n",
        "Y ahora, la integración o suma sobre todo el rango de frecuencias o longitudes de onda, corresponde a la **Ley de Stefan-Boltzmann** (de donde se obtiene la intensidad de la energía emitida por un cuerpo negro), la cual tiene dimensiones de potencia por unidad de área:\n",
        "$$R(T) = \\frac{P}{A} =  \\int_{\\infty}^0 r(\\lambda, T)\\, d\\lambda = \\sigma T^4;\\;\\;\\; \\sigma = \\frac{2\\pi^5 k_{\\text{B}}^4}{15 h^3 c^2} \\approx 5.6704 \\times 10^{-8} \\;\\text{W}\\cdot \\text{m}^{-2} \\cdot \\text{K}^{-4}$$\n",
        "\n",
        "# **Ajuste de Datos:**\n",
        "\n",
        "Para elaborar el ajuste se tomaron dos conjuntos de datos **[2]** de la irradiancia espectral solar, con medidas procesadas por dispositivos configurados mediante las magnitudes de, $\\text{W}\\cdot \\text{m}^{-2}\\cdot\\text{nm}^{-1}$:\n",
        "\n",
        "1.   **ASTM E-490.** Desarrollado en el año 2000 por la Sociedad Estadounidense de Pruebas y Materiales (American Society for Testing and Materials - ASTM), se basa en datos de satélites, misiones de transbordadores espaciales, aeronaves a gran altitud, sondeos de cohetes, telescopios solares terrestres e irradiancia espectral modelada. Los datos se encuentran disponibles en formato de excel (*.xls*), pero se manipularon de forma manual en un archivo de texto plano a dos columnas, la primera siendo la longitud de onda y la segunda la irradiancia espectral solar.\n",
        "\n",
        "2.   **Synthetic/composite Extraterrestrial Spectrum.** Elaborado por Chris Gueymard en el año 2003, cubre la historia y el desarrollo de la mayoría de espectros extraterrestres, incluyendo fuentes recientes con una amplia región espectral. En este caso, los datos se manipularon usando **dataframes del módulo Pandas**.\n",
        "\n",
        "Ambos se encuentran disponibles en:\n",
        "* https://drive.google.com/file/d/1P11diGDjOtKJ9rfeOm_amBEH9uMJDzMI/ (1)\n",
        "* https://www.nrel.gov/grid/solar-resource/assets/data/newguey2003.txt (2)\n",
        "\n",
        "\n",
        "# **CRITERIOS ESTADISTICOS:** bondad del ajuste.\n",
        "\n",
        "* Coeficiente de determinación:\n",
        "\n",
        "$$R^2 = 1 - \\frac{\\mathbf{SS_{res}}}{\\mathbf{SS_{tot}}}$$\n",
        "\n",
        "> donde la suma residual y la suma total de cuadrados se definen a partir de los datos $X_E$ (experimental), $X_T$ (ajuste teórico) y $X_M$ (media experimental) **[3]**, como:\n",
        "\n",
        "\n",
        "$$\\mathbf{SS_{res}} = \\sum_{i = 1}^N (X_E - X_T)^2; \\;\\;\\;\\;\\;\\; \\mathbf{SS_{tot}} = \\sum_{i = 1}^N (X_E - X_M)^2$$\n",
        "\n",
        "\n",
        "* RMS - error cuadrático medio:\n",
        "\n",
        "$$E = \\sqrt{\\frac{1}{N}\\sum_{i = 1}^N(X_E - X_T)^2}$$\n",
        "\n"
      ]
    },
    {
      "cell_type": "code",
      "metadata": {
        "id": "9mVEcHL3zLwx"
      },
      "source": [
        "#-------------------------------------------------------\n",
        "# Librerías y módulos del entorno de programación\n",
        "#-------------------------------------------------------\n",
        "\n",
        "import matplotlib.pyplot as plt\n",
        "import numpy as np\n",
        "import pandas as pd\n",
        "from google.colab import drive\n",
        "from scipy.optimize import curve_fit"
      ],
      "execution_count": null,
      "outputs": []
    },
    {
      "cell_type": "code",
      "metadata": {
        "colab": {
          "base_uri": "https://localhost:8080/"
        },
        "id": "BeQpIGFF2xIm",
        "outputId": "e68e8df7-d9c7-49ff-b5f6-dc79bf6d923e"
      },
      "source": [
        "#-------------------------------------------------------\n",
        "# Lectura conjunto de datos (1), almacenados en texto\n",
        "# plano y en una carpeta de Drive\n",
        "#-------------------------------------------------------\n",
        "\n",
        "drive.mount('/content/gdrive')\n",
        "!cp '/content/gdrive/My Drive/Virtual/DatosGlobo2.txt' 'ref_1.txt'\n",
        "!cp '/content/gdrive/My Drive/Virtual/DatosSatelite2.txt' 'ref_2.txt'"
      ],
      "execution_count": null,
      "outputs": [
        {
          "output_type": "stream",
          "name": "stdout",
          "text": [
            "Drive already mounted at /content/gdrive; to attempt to forcibly remount, call drive.mount(\"/content/gdrive\", force_remount=True).\n"
          ]
        }
      ]
    },
    {
      "cell_type": "code",
      "metadata": {
        "id": "IiKAqWmJ4xwY"
      },
      "source": [
        "with open('ref_1.txt') as f1, open('ref_2.txt') as f2:\n",
        "  n1 = len(list(f1))\n",
        "  n2 = len(list(f2))"
      ],
      "execution_count": null,
      "outputs": []
    },
    {
      "cell_type": "code",
      "metadata": {
        "id": "_h0joOut43wX"
      },
      "source": [
        "g = np.loadtxt('ref_1.txt', delimiter='\\t')\n",
        "s = np.loadtxt('ref_2.txt', delimiter='\\t')"
      ],
      "execution_count": null,
      "outputs": []
    },
    {
      "cell_type": "code",
      "metadata": {
        "id": "Ez3AsLNv5IsH",
        "colab": {
          "base_uri": "https://localhost:8080/"
        },
        "outputId": "2bc728d0-1a22-40a1-ff05-108c42aaae49"
      },
      "source": [
        "#-------------------------------------------------------\n",
        "# Asignacion de las columnas para conjunto de datos (1)\n",
        "# Conversion de unidades de longitud de onda λ (nm → m)\n",
        "#-------------------------------------------------------\n",
        "\n",
        "w, B = g[:,0], g[:,1]\n",
        "wave, b = w*1e-9, B*1e9\n",
        "\n",
        "print(len(wave))"
      ],
      "execution_count": null,
      "outputs": [
        {
          "output_type": "stream",
          "name": "stdout",
          "text": [
            "919\n"
          ]
        }
      ]
    },
    {
      "cell_type": "code",
      "metadata": {
        "colab": {
          "base_uri": "https://localhost:8080/"
        },
        "id": "-DTKpi15uulV",
        "outputId": "f7fd5499-96d7-4043-98e4-897b877c911a"
      },
      "source": [
        "#-------------------------------------------------------\n",
        "# Lectura conjunto de datos (2), cargados directamente\n",
        "# desde la URL donde se encuentran almacenados\n",
        "#-------------------------------------------------------\n",
        "\n",
        "dataset=pd.read_csv(\"https://www.nrel.gov/grid/solar-resource/assets/data/newguey2003.txt\",\n",
        "                    skiprows=9, header=None, delimiter=\"\\t\")\n",
        "\n",
        "#-------------------------------------------------------\n",
        "# Restricción cantidad datos, índice hasta λ = 8000 nm\n",
        "#-------------------------------------------------------\n",
        "print(dataset[dataset[0]==8000].index.values)\n",
        "df = dataset.iloc[:2395]\n",
        "#print(dataset)\n",
        "#print(df)\n",
        "\n",
        "#-------------------------------------------------------\n",
        "# Arreglos (x, y) con conversión de unidades, nm → m\n",
        "#-------------------------------------------------------\n",
        "x = np.array(df[0])*1e-9\n",
        "y = np.array(df[1])*1e9"
      ],
      "execution_count": null,
      "outputs": [
        {
          "output_type": "stream",
          "name": "stdout",
          "text": [
            "[2394]\n"
          ]
        }
      ]
    },
    {
      "cell_type": "code",
      "metadata": {
        "id": "On6PxSh95aTT"
      },
      "source": [
        "#-------------------------------------------------------\n",
        "# Valor de las constantes en unidades correspondientes\n",
        "#-------------------------------------------------------\n",
        "k = 1.381e-23   # J/K, Constante de Boltzmann\n",
        "h = 6.626e-34   # J•s, Constante de Planck\n",
        "c = 3.0e8       # m/s, Velocidad de la Luz\n",
        "p = 2*np.pi*h*c**2 # Coeficiente función Planck\n",
        "\n",
        "#-------------------------------------------------------\n",
        "# Funciones que definen el modelo de Planck\n",
        "#-------------------------------------------------------\n",
        "def Planck(wave, T, A):\n",
        "  return A*p/((wave**5)*(np.exp(h*c/(wave*k*T))-1))\n",
        "\n",
        "def planck(x, T, A):\n",
        "  return A*p/((x**5)*(np.exp(h*c/(x*k*T))-1))"
      ],
      "execution_count": null,
      "outputs": []
    },
    {
      "cell_type": "code",
      "metadata": {
        "id": "IJLIAdqW8yeg",
        "colab": {
          "base_uri": "https://localhost:8080/",
          "height": 441
        },
        "outputId": "609d3215-9d4b-44b2-f42e-b409bb16c56b"
      },
      "source": [
        "#-------------------------------------------------------\n",
        "# AJUSTES PARA LOS DOS CONJUNTOS DE DATOS\n",
        "#-------------------------------------------------------\n",
        "popt_1, pcov_1 = curve_fit(Planck, wave, b, p0=[5000, 1])\n",
        "popt_2, pcov_2 = curve_fit(planck, x, y, p0=[5000, 1])\n",
        "\n",
        "#-------------------------------------------------------\n",
        "# Graficas conjuntos de datos y sus respectivos ajustes\n",
        "#-------------------------------------------------------\n",
        "fig, (ax1, ax2) = plt.subplots(1,2, figsize=(13,5))\n",
        "fig.suptitle('Ajuste de mínimos cuadrados no lineales', fontsize = 15)\n",
        "\n",
        "ax1.plot(wave, b,  color = 'gold', marker = '.', label = \"Medidas (1)\")\n",
        "ax1.plot(wave, Planck(wave, *popt_1), 'g-', linewidth=2, label=\"Ajuste Planck\")\n",
        "ax1.set_xlabel('Longitud de onda, (m)', fontsize = 13)\n",
        "ax1.set_ylabel('Radiancia Espectral, ($W/m^3$)', fontsize = 13)\n",
        "ax1.grid()\n",
        "ax1.legend()\n",
        "\n",
        "ax2.plot(x, y, color = 'orange', marker = '.', label = \"Medidas (2)\")\n",
        "ax2.plot(x, planck(x, *popt_2), 'b-', linewidth=2, label=\"Ajuste Planck\")\n",
        "ax2.set_xlabel('Longitud de onda, (m)', fontsize = 13)\n",
        "ax2.set_ylabel('Radiancia Espectral, ($W/m^3$)', fontsize = 13)\n",
        "ax2.grid()\n",
        "ax2.legend()\n",
        "\n",
        "plt.subplots_adjust(wspace=0.25)\n",
        "plt.show()"
      ],
      "execution_count": null,
      "outputs": [
        {
          "output_type": "stream",
          "name": "stderr",
          "text": [
            "/usr/local/lib/python3.7/dist-packages/ipykernel_launcher.py:16: RuntimeWarning: overflow encountered in exp\n",
            "  app.launch_new_instance()\n",
            "/usr/local/lib/python3.7/dist-packages/ipykernel_launcher.py:16: RuntimeWarning: overflow encountered in exp\n",
            "  app.launch_new_instance()\n"
          ]
        },
        {
          "output_type": "display_data",
          "data": {
            "image/png": "[encoded data removed]",
            "text/plain": [
              "<Figure size 936x360 with 2 Axes>"
            ]
          },
          "metadata": {
            "needs_background": "light"
          }
        }
      ]
    },
    {
      "cell_type": "code",
      "metadata": {
        "colab": {
          "base_uri": "https://localhost:8080/"
        },
        "id": "HmRJK4cqCkvu",
        "outputId": "206d6e63-65fb-4ddc-9b37-1ebf95066932"
      },
      "source": [
        "#-------------------------------------------------------\n",
        "# CRITERIOS ESTADISTICOS.\n",
        "# Llamada a funciones: parámetros y media de los datos\n",
        "#-------------------------------------------------------\n",
        "b_1 = Planck(wave, *popt_1)\n",
        "bmean = np.mean(b)\n",
        "\n",
        "x_2 = planck(x, *popt_2)\n",
        "xmean = np.mean(x)\n",
        "\n",
        "#-------------------------------------------------------\n",
        "# Suma residual y suma total de cuadrados\n",
        "#-------------------------------------------------------\n",
        "ss_res_1 = np.dot((b-b_1),(b-b_1))\n",
        "ss_tot_1 = np.dot((b-bmean),(b-bmean))\n",
        "\n",
        "ss_res_2 = np.dot((x-x_2),(x-x_2))\n",
        "ss_tot_2 = np.dot((x-xmean),(x-xmean))\n",
        "\n",
        "#-------------------------------------------------------\n",
        "# Visualización de los criterios estadísticos\n",
        "#-------------------------------------------------------\n",
        "print(\"ESTADISTICOS AJUSTE PRIMER CONJUNTO DE DATOS.\")\n",
        "print(\"\\nEl valor de los dos criterios es:\")\n",
        "print(\"R^2 =\",  round(1-ss_res_1/ss_tot_1, 5))\n",
        "print(\"E =\", round(np.mean((b-b_1)**2), 5))\n",
        "\n",
        "print(\"\\nEl valor de la temperatura y su error es:\")\n",
        "print(\"T = (\", popt_1[0], \"+/-\", pcov_1[0,0]**0.5, \") K\")\n",
        "\n",
        "\n",
        "print(\"\\nESTADISTICOS AJUSTE SEGUNDO CONJUNTO DE DATOS.\")\n",
        "print(\"\\nEl valor de los dos criterios es:\")\n",
        "print(\"R^2 =\",  round(1-ss_res_2/ss_tot_2, 5))\n",
        "print(\"E =\", round(np.mean((x-x_2)**2), 5))\n",
        "\n",
        "print(\"\\nEl valor de la temperatura y su error es:\")\n",
        "print(\"T = (\", popt_2[0], \"+/-\", pcov_2[0,0]**0.5, \") K\")"
      ],
      "execution_count": null,
      "outputs": [
        {
          "output_type": "stream",
          "name": "stdout",
          "text": [
            "ESTADISTICOS AJUSTE PRIMER CONJUNTO DE DATOS.\n",
            "\n",
            "El valor de los dos criterios es:\n",
            "R^2 = 0.95081\n",
            "E = 2.238708880108806e+16\n",
            "\n",
            "El valor de la temperatura y su error es:\n",
            "T = ( 5449.692525913047 +/- 16.73983839697769 ) K\n",
            "\n",
            "ESTADISTICOS AJUSTE SEGUNDO CONJUNTO DE DATOS.\n",
            "\n",
            "El valor de los dos criterios es:\n",
            "R^2 = -3.681664638880226e+29\n",
            "E = 6.67098418528256e+17\n",
            "\n",
            "El valor de la temperatura y su error es:\n",
            "T = ( 5504.228738427286 +/- 9.898462502233755 ) K\n"
          ]
        },
        {
          "output_type": "stream",
          "name": "stderr",
          "text": [
            "/usr/local/lib/python3.7/dist-packages/ipykernel_launcher.py:16: RuntimeWarning: overflow encountered in exp\n",
            "  app.launch_new_instance()\n"
          ]
        }
      ]
    },
    {
      "cell_type": "markdown",
      "metadata": {
        "id": "dEWk2hu6Hon8"
      },
      "source": [
        "# **CONCLUSIONES.**\n",
        "\n",
        "*   Mientras el valor del coeficiente de determinación sea más cercano al valor uno, $R^2 \\approx 1$, se puede tener un modelo eficiente y óptimo. El modelo correspondiente al primer conjunto de datos, es consistente con un valor de $R^2$ cercano a la unidad y de acuerdo con estre criterio, es el que representa el ajuste con mayor calidad. Sin embargo, se aclara que en muchos modelos no lineales el valor de $R^2$ no necesariamente representa un indicador de un buen ajuste.\n",
        "\n",
        "*   El valor de la temperatura efectiva de la superficie del Sol es de $5778\\,\\text{K}$ **[**[☉](https://es.wikipedia.org/wiki/Sol)**]**. El parámetro más cercano a este valor, resultó siendo la temperatura correspondiente al segundo conjunto de datos, pero los modelos que no tienen buenas predicciones teóricas, pueden dar lugar a valores negativos de $R^2$, tal como ocurrió en el caso presentado.\n",
        "\n",
        "*  Para realizar los ajustes se planteó el supuesto de una temperatura $T = 6000\\,\\text{K}$ (al interior de los argumentos de la función `curve_fit`). Los valores de la temperatura superficial del Sol, como parámetro obtenido para cada conjunto de datos, se han comparado con el valor teórico, de lo cual resultan errores relativos que se encuentran entre $5\\%$ y $6\\%$ respectivamente.\n",
        "\n",
        "*   En ambos casos el error cuadrático medio $E$ tiene un valor muy alto, por lo que sería necesario aplicar otras herramientas estadísticas que permitan decidir si los ajustes se encuentran sesgados: subestimados o sobreestimados (en el ajuste de un modelo no lineal, es posible que resulte subestimada la incertidumbre de todos los parámetros).\n",
        "\n",
        "# **REFERENCIAS.**\n",
        "\n",
        "**[1]**  Johanson R. (2019). Numerical Python: Scientific Computing and Data Science Applications with Numpy, SciPy and Matplotlib, (2nd Ed.). California, U.S.A.: Apress, Springer Nature.\n",
        "\n",
        "**[2]**  National Renewable Energy Laboratory - NREL, (2021). \"Solar Resourse Data & Tools: Solar Spectra\", [en línea]. Disponible en: https://www.nrel.gov/grid/solar-resource/spectra.html. [2021, 08 de agosto].\n",
        "\n",
        "**[3]** STACK OVERFLOW, (2021). \"Getting the r-squared value using `curve_fit`\", [en línea]. Disponible en: https://stackoverflow.com/questions/19189362/. [2021, 12 de octubre]\n",
        "\n",
        "**[4]**  SciPy documentation, (2021). \"*scipy.optimize.curve_fit*, Use non-linear least squares to fit a function, f, to data. Interfaz de ajuste para mínimos cuadrados no lineales\", [en línea]. Disponible en: https://docs.scipy.org/doc/scipy/reference/generated/scipy.optimize.curve_fit.html. [2021, 06 de octubre]\n",
        "\n",
        "**[5]**   WIKIPEDIA, (2021). \"Planck's law, Spectral Radiance & Sun\", [en línea]. Disponibles en: https://es.wikipedia.org/. [2021, 11 de octubre]\n",
        "\n",
        "**[6]** Prof. Vázques, J. C. (2021). \"Curso de Fundamentación en Computación: Teoria del módulo PANDAS\", [en línea]. Disponible en: https://colab.research.google.com/drive/12ZKYvepChYAzHq7KGBTzI5xyrYVIN86H. [2021, 10 de octubre]\n",
        "\n",
        "**[7]**   Schultz, B., GITHUB, (2021). \"University of Michigan: COBE + FIRAS CMB Spectrum, Jupyter Notebook\", [en línea]. Disponible en: https://github.com/benjaminaschultz/phsc_lab5/. [2021, 12 de octubre]\n",
        "\n",
        "\n",
        "\n",
        "\n",
        "\n",
        "\n",
        "\n",
        "\n",
        "\n",
        "\n"
      ]
    }
  ]
}